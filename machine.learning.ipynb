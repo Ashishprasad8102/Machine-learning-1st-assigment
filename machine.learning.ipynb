{
 "cells": [
  {
   "cell_type": "code",
   "execution_count": null,
   "id": "b60885de-5737-4cf5-8204-d488bc73e11f",
   "metadata": {},
   "outputs": [],
   "source": [
    "Example the following with an example\n",
    "\n",
    "1.Artificial intelligence: Artificial intelligenceis the simulation of human intelligence processes by machine \n",
    ", especially computer system."
   ]
  },
  {
   "cell_type": "code",
   "execution_count": null,
   "id": "d66e43c5-16aa-475a-b84c-6b926bd02d8c",
   "metadata": {},
   "outputs": [],
   "source": [
    "2.Machin learning:  Machine learning is a branch of artificial intelligence(AI) and \n",
    "computer science which focuses on the use of dataand algorithms to imitate the way \n",
    "that humans learn, gradually improving its accuracy."
   ]
  },
  {
   "cell_type": "code",
   "execution_count": null,
   "id": "0dbb2e59-54ba-49e1-a0d4-d21da2b52af9",
   "metadata": {},
   "outputs": [],
   "source": [
    "3.Deep learning:   Deep learning is a method in artificial intelligence (AI) that teaches\n",
    "computers to process data in a way that is inspired by the human brain. "
   ]
  },
  {
   "cell_type": "code",
   "execution_count": null,
   "id": "8a345fd4-e30f-4ab8-8916-2d73b4efc7b0",
   "metadata": {},
   "outputs": [],
   "source": [
    "2.> Supervised learning, as the name indicates, has the presence of a supervisor as a teacher.\n",
    "Basically supervised learning is when we teach or train the machine using data that is well-\n",
    "labelled. Which means some data is already tagged with the correct answer. After that, the \n",
    "machine is provided with a new set of examples(data) so that the supervised learning algorithm\n",
    "analyses the training data(set of training examples) and produces a correct outcome from labeled data."
   ]
  },
  {
   "cell_type": "code",
   "execution_count": null,
   "id": "a4cb743f-966b-4e29-9207-faf6dbb5ee31",
   "metadata": {},
   "outputs": [],
   "source": [
    "3.> Unsupervised learning, also known as unsupervised machine learning, uses machine learning algorithms\n",
    "to analyze and cluster unlabeled datasets. These algorithms discover hidden patterns or data groupings \n",
    "without the need for human intervention."
   ]
  },
  {
   "cell_type": "code",
   "execution_count": null,
   "id": "6141629b-e7fe-41a7-bb4d-b5f996d0ef24",
   "metadata": {},
   "outputs": [],
   "source": [
    "4.> 🔹Artificial Intelligence (AI) enables machines to think by understanding, learning from the data,\n",
    "and taking decisions based on patterns hidden in the data or make inferences that would otherwise be\n",
    "very difficult for humans to make manually. The end goal of using ML or DL is to create an AI \n",
    "application or machine as smart as humans.\n",
    "\n",
    "🔹Machine Learning (ML) is a subset of AI; it provides us statistical tools/techniques like Supervised,\n",
    "Unsupervised, and Reinforcement learning to explore and analyze the data.\n",
    "\n",
    "🔹Deep Learning (DL) is further a subset of ML, and the main idea behind it is to make machines learn\n",
    "by mimicking the human brain. Here, we create a multi neural network architecture with the help of\n",
    "different techniques like ANN, CNN, and RNN.\n",
    "\n",
    "🔹Data Science (DS) is basically drawing insights from structured and unstructured data either by\n",
    "using ML or DL or without these techniques. We can even use different visualization tools, statistics,\n",
    "and probability to gain these insights."
   ]
  },
  {
   "cell_type": "markdown",
   "id": "aeec69de-eb54-45da-9907-0997360639a7",
   "metadata": {},
   "source": [
    "5.>upervised learning aims to learn a function that, given a sample of data and desired outputs,\n",
    "approximates a function that maps inputs to outputs.\n",
    "\n",
    "Semi-supervised learning aims to label unlabeled data points using knowledge learned from a small\n",
    "number of labeled data points.\n",
    "\n",
    "Unsupervised learning does not have (or need) any labeled outputs, so its goal is to infer the\n",
    "natural structure present within a set of data points.\n",
    "\n"
   ]
  },
  {
   "cell_type": "code",
   "execution_count": null,
   "id": "004f21c5-a23e-4429-ac92-591e8ba90a00",
   "metadata": {},
   "outputs": [],
   "source": [
    "7. Spam detection is another example of a supervised learning model. Using supervised classification\n",
    "algorithms, organizations can train databases to recognize patterns or anomalies in new data to \n",
    "organize spam and non-spam-related correspondences effectively."
   ]
  }
 ],
 "metadata": {
  "kernelspec": {
   "display_name": "Python 3 (ipykernel)",
   "language": "python",
   "name": "python3"
  },
  "language_info": {
   "codemirror_mode": {
    "name": "ipython",
    "version": 3
   },
   "file_extension": ".py",
   "mimetype": "text/x-python",
   "name": "python",
   "nbconvert_exporter": "python",
   "pygments_lexer": "ipython3",
   "version": "3.10.8"
  }
 },
 "nbformat": 4,
 "nbformat_minor": 5
}
